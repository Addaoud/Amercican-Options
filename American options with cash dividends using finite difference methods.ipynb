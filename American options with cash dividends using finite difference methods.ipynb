{
 "cells": [
  {
   "cell_type": "code",
   "execution_count": 1,
   "metadata": {},
   "outputs": [],
   "source": [
    "from scipy.integrate import quad    \n",
    "import numpy as np\n",
    "import math\n",
    "import matplotlib.pyplot as plt\n",
    "import seaborn as sns\n",
    "from timeit import default_timer as timer"
   ]
  },
  {
   "cell_type": "markdown",
   "metadata": {},
   "source": [
    "# RMS"
   ]
  },
  {
   "cell_type": "code",
   "execution_count": 2,
   "metadata": {},
   "outputs": [],
   "source": [
    "def RMS(L,L1):\n",
    "    s=0\n",
    "    for i in range (len(L)):\n",
    "        s+=((L1[i]-L[i])/L[i])**2\n",
    "    s=s/(len(L))\n",
    "    s=s**(0.5)\n",
    "    return (s)"
   ]
  },
  {
   "cell_type": "markdown",
   "metadata": {},
   "source": [
    "# Functions"
   ]
  },
  {
   "cell_type": "code",
   "execution_count": 3,
   "metadata": {},
   "outputs": [],
   "source": [
    "def interpolation (x1,x2,y1,y2,x):\n",
    "    y=y1+(y2-y1)*((x-x1)/(x2-x1))\n",
    "    return (y)"
   ]
  },
  {
   "cell_type": "code",
   "execution_count": 4,
   "metadata": {},
   "outputs": [],
   "source": [
    "def factor_growth (t,mu,d):\n",
    "    f=mu*t\n",
    "    f=math.exp(f)\n",
    "    d1=sorted(d)\n",
    "    for key in (d1):\n",
    "        f=f*(1-d[key][1])\n",
    "        if (key>t):\n",
    "            break ;\n",
    "    return (f)"
   ]
  },
  {
   "cell_type": "code",
   "execution_count": 5,
   "metadata": {},
   "outputs": [],
   "source": [
    "def Forward(t,S,d,mu):\n",
    "    d1=sorted(d)\n",
    "    I=S\n",
    "    for key in d1:\n",
    "        if (key<=t):\n",
    "            I-=(d[key][0]/factor_growth(key,mu,d))\n",
    "        else: break ;\n",
    "    I=I*factor_growth(t,mu,d)\n",
    "    return (I)"
   ]
  },
  {
   "cell_type": "code",
   "execution_count": 6,
   "metadata": {},
   "outputs": [],
   "source": [
    "def shift_FHM (t,d,mu):\n",
    "    H=0\n",
    "    d1=sorted(d)\n",
    "    for key in d1:\n",
    "        if (key>t):\n",
    "            H=H+(d[key][0]/factor_growth(key,mu,d))\n",
    "    F=factor_growth(t,mu,d)\n",
    "    I=F*H\n",
    "    return (I)"
   ]
  },
  {
   "cell_type": "code",
   "execution_count": 7,
   "metadata": {},
   "outputs": [],
   "source": [
    "def asset_prices(NAS,NTS,ds,dt,d):\n",
    "    asset_steps = np.zeros(int(NTS))\n",
    "    asset_price = np.zeros((int(NAS+1), int(NTS)))\n",
    "    asset_price[:,-1]=np.arange(NAS*ds,-(ds/2),-ds)\n",
    "    asset_steps[-1]=asset_price[1,-1]-asset_price[2,-1]\n",
    "    d1=sorted(d)\n",
    "    n=len(d1)-1\n",
    "    for j in reversed (range (NTS-1)):\n",
    "        if (n>=0):\n",
    "            if ((j*dt)<d1[n]) :\n",
    "                asset_price[:,j]=(1/(1-d[d1[n]][1])*(asset_price[:,j+1]+d[d1[n]][0]))\n",
    "                asset_steps[j]=asset_price[1,j]-asset_price[2,j]\n",
    "                n-=1\n",
    "            else :\n",
    "                asset_price[:,j]=asset_price[:,j+1]\n",
    "                asset_steps[j]=asset_price[1,j]-asset_price[2,j]\n",
    "        else :\n",
    "                asset_price[:,j]=asset_price[:,j+1]\n",
    "                asset_steps[j]=asset_price[1,j]-asset_price[2,j]\n",
    "    return (asset_price,asset_steps)"
   ]
  },
  {
   "cell_type": "markdown",
   "metadata": {},
   "source": [
    "# Martingale Model"
   ]
  },
  {
   "cell_type": "code",
   "execution_count": 8,
   "metadata": {},
   "outputs": [],
   "source": [
    "def Finite_difference_MM_CRN (E,ds,NAS,r,q,SIGMA,T,d,S):\n",
    "    dt = (0.9/NAS/NAS/SIGMA/SIGMA)#dt = 0.1*(dx**2)  #Time Step Size\n",
    "    NTS = int(T / dt) + 1  #Number of Time Steps\n",
    "    dt = T / NTS #Time Step Size\n",
    "    value_matrix = np.zeros((int(NAS+1), int(NTS)))\n",
    "    mu=r-q\n",
    "    asset_price = np.arange(0,(NAS+0.5)*dx,dx) #X values\n",
    "    for x in (range(NAS+1)):\n",
    "        value_matrix[x,-1]= max (asset_price[x]*(Forward(T,S,d,mu))-E ,0)\n",
    "    for x in range(1,NTS):\n",
    "        value_matrix[0,-x-1] = 0#value_matrix[-1,-x]* math.exp(-r*dt)\n",
    "        value_matrix[-1,-x-1] = value_matrix[0,-x]* math.exp(-r*dt)\n",
    "        \n",
    "    i=(np.arange(1,NAS))\n",
    "    P=0.25*dt*(SIGMA**2*i**2)\n",
    "    Q=0.5*dt*(SIGMA**2*i**2)\n",
    "    A=np.diag(1+Q)-np.diag(P[1:],k=-1)-np.diag(P[0:NAS-2],k=1) #the tri-diagonal matrix\n",
    "    B=np.diag(1-Q)+np.diag(P[1:],k=-1)+np.diag(P[0:NAS-2],k=1) #the tri-diagonal matrix\n",
    "\n",
    "    for x in range(1,int(NTS)):\n",
    "        C=np.dot(B,(value_matrix[1:NAS,-x]))\n",
    "        C[0]+=P[0]*(value_matrix[0,-x-1]+value_matrix[0,-x])\n",
    "        C[NAS-2]+=(P[NAS-2]*value_matrix[NAS,-x-1]+P[NAS-2]*value_matrix[NAS,-x])\n",
    "        value_matrix[1:NAS,-x-1] = (np.dot((np.linalg.inv(A)), C )).transpose() \n",
    "        value_matrix[:,-x-1] = np.maximum(value_matrix[:,-x-1], asset_price[:]*(Forward((NTS-x-1)*dt,S,d,mu))-E)        #Set Ceiling Value \n",
    "    return (value_matrix)"
   ]
  },
  {
   "cell_type": "code",
   "execution_count": 9,
   "metadata": {},
   "outputs": [],
   "source": [
    "def Finite_difference_MM_Ex (E,ds,NAS,r,q,SIGMA,T,d,S):\n",
    "    dt = (0.9/NAS/NAS/SIGMA/SIGMA)#dt = 0.1*(dx**2)  #Time Step Size\n",
    "    NTS = int(T / dt) + 1  #Number of Time Steps\n",
    "    dt = T / NTS #Time Step Size\n",
    "    value_matrix = np.zeros((int(NAS+1), int(NTS)))\n",
    "    mu=r-q\n",
    "    asset_price = np.arange(0,(NAS+0.5)*dx,dx) #X values\n",
    "    for x in (range(NAS+1)):\n",
    "        #Set boundary value for t=T\n",
    "        value_matrix[x,-1]= max (asset_price[x]*(Forward(T,S,d,mu))-E ,0)\n",
    "        \n",
    "    for x in range(1,NTS):\n",
    "        #Set Ceiling Value for Xmin and Xmax\n",
    "        value_matrix[0,-x-1] = 0\n",
    "        value_matrix[-1,-x-1] = value_matrix[0,-x]* math.exp(-r*dt)\n",
    "        \n",
    "    for x in range(1,int(NTS)):\n",
    "        for y in range(1,int(NAS)):\n",
    "            #Evaluate approximate derivatives\n",
    "            Gamma = (value_matrix[y-1,-x] - (2 * value_matrix[y,-x]) + value_matrix[y+1,-x]) / dx / dx\n",
    "            Theta = (0.5 * SIGMA**2 * asset_price[y]**2 * Gamma) \n",
    "            #Set Mid Values\n",
    "            value_matrix[y,-x-1] = value_matrix[y,-x] + Theta * dt\n",
    "            value_matrix[y,-x-1] = np.maximum(value_matrix[y,-x-1], asset_price[y]*(Forward((NTS-x-1)*dt,S,d,mu))-E)\n",
    "\n",
    "    return (value_matrix)"
   ]
  },
  {
   "cell_type": "code",
   "execution_count": 10,
   "metadata": {},
   "outputs": [],
   "source": [
    "def Finite_difference_MM_Im (E,ds,NAS,r,q,SIGMA,T,d,S):\n",
    "    dt = (0.9/NAS/NAS/SIGMA/SIGMA)#dt = 0.1*(dx**2)  #Time Step Size\n",
    "    NTS = int(T / dt) + 1  #Number of Time Steps\n",
    "    dt = T / NTS #Time Step Size\n",
    "    value_matrix = np.zeros((int(NAS+1), int(NTS)))\n",
    "    mu=r-q\n",
    "    asset_price = np.arange(0,(NAS+0.5)*dx,dx) #X values\n",
    "    for x in (range(NAS+1)):\n",
    "        value_matrix[x,-1]= max (asset_price[x]*(Forward(T,S,d,mu))-E ,0)\n",
    "    for x in range(1,NTS):\n",
    "        value_matrix[0,-x-1] = 0#value_matrix[-1,-x]* math.exp(-r*dt)\n",
    "        value_matrix[-1,-x-1] = value_matrix[0,-x]* math.exp(-r*dt)\n",
    "        \n",
    "    i=(np.arange(1,NAS))\n",
    "    P=-0.5*dt*(SIGMA**2*i**2)\n",
    "    Q=1+ dt*(SIGMA**2*i**2)\n",
    "    A=np.diag(Q)+np.diag(P[1:],k=-1)+np.diag(P[0:NAS-2],k=1) #the tri-diagonal matrix\n",
    "    for x in range(1,int(NTS)):\n",
    "\n",
    "        f=value_matrix[1:NAS,-x] \n",
    "        f[0]=f[0]-P[0]*value_matrix[0,-x-1]   #inserts the first value\n",
    "        f[NAS-2]=f[NAS-2]-P[NAS-2]*value_matrix[NAS,-x-1]   #inserts the last value\n",
    "        value_matrix[1:NAS,-x-1]=np.linalg.solve(A,f) #solves the simultaneous equations\n",
    "\n",
    "        value_matrix[:,-x-1] = np.maximum(value_matrix[:,-x-1], asset_price[:]*(Forward((NTS-x-1)*dt,S,d,mu))-E)\n",
    "        #Set Ceiling Value\n",
    "        #value_matrix[0,-x-1] =2 * value_matrix[1,-x-1] - value_matrix[2,-x-1]#value_matrix[0,-x]* math.exp(-r*dt) # \n",
    "    return (value_matrix)"
   ]
  },
  {
   "cell_type": "markdown",
   "metadata": {},
   "source": [
    "# Spot Model"
   ]
  },
  {
   "cell_type": "code",
   "execution_count": 11,
   "metadata": {},
   "outputs": [],
   "source": [
    "def Finite_difference_SM_CRN (E,ds,NAS,r,q,SIGMA,T,d):\n",
    "    dt = (0.9/NAS/NAS/SIGMA/SIGMA)  #Time Step Size\n",
    "    NTS = int(T / dt) + 1  #Number of Time Steps\n",
    "    dt = T / NTS #Time Step Size\n",
    "    value_matrix = np.zeros((int(NAS+1), int(NTS)))\n",
    "    asset_price,asset_steps = asset_prices(NAS,NTS,ds,dt,d)\n",
    "    value_matrix[:,-1]= np.maximum(asset_price[:,-1] - E,0)\n",
    "    mu=r-q\n",
    "    #print (len (value_matrix))\n",
    "    for x in range(1,NTS):\n",
    "        value_matrix[-1,-x-1] =0 #value_matrix[-1,-x]* math.exp(-r*dt)\n",
    "        value_matrix[0,-x-1] =(asset_price[0,-x-1] - E)\n",
    "    for x in range(1,int(NTS)):\n",
    "        #initializing the risk neutral probabilities\n",
    "        P=(0.25*SIGMA**2*asset_price[1:NAS,-x-1]**2*dt/asset_steps[-x-1]**2)-(0.25*r*asset_price[1:NAS,-x-1]*dt/asset_steps[-x-1]) \n",
    "        Q=(-0.5*SIGMA**2*asset_price[1:NAS,-x-1]**2*dt/asset_steps[-x-1]**2)-0.5*r*dt \n",
    "        R=(0.25*SIGMA**2*asset_price[1:NAS,-x-1]**2*dt/asset_steps[-x-1]**2)+(0.25*r*asset_price[1:NAS,-x-1]*dt/asset_steps[-x-1]) \n",
    "        P1=(0.25*SIGMA**2*asset_price[1:NAS,-x]**2*dt/asset_steps[-x]**2)-(0.25*r*asset_price[1:NAS,-x]*dt/asset_steps[-x]) \n",
    "        Q1=(-0.5*SIGMA**2*asset_price[1:NAS,-x]**2*dt/asset_steps[-x]**2)-0.5*r*dt \n",
    "        R1=(0.25*SIGMA**2*asset_price[1:NAS,-x]**2*dt/asset_steps[-x]**2)+(0.25*r*asset_price[1:NAS,-x]*dt/asset_steps[-x]) \n",
    "        #computes the matrices A and B\n",
    "        l=np.array\n",
    "        A=np.diag(1-(Q))+np.diag(-(P[0:NAS-2]),k=1)+np.diag(-(R[1:]),k=-1)\n",
    "        B=np.diag(1+(Q1))+np.diag((P1[0:NAS-2]),k=1)+np.diag((R1[1:]),k=-1)\n",
    "        C=np.dot(B,(value_matrix[1:NAS,-x]))\n",
    "        C[0]+=((R[0]*value_matrix[0,-x-1])+(R1[0]*value_matrix[0,-x]))\n",
    "        C[NAS-2]+=(P[NAS-2]*value_matrix[NAS,-x-1]+P1[NAS-2]*value_matrix[NAS,-x])\n",
    "        G = np.dot((np.linalg.inv(A)), C )   \n",
    "        value_matrix[1:NAS,-x-1] = G.transpose()\n",
    "        value_matrix[:,-x-1] = np.maximum(value_matrix[:,-x-1], (asset_price[:,-x-1] - E))\n",
    "        #Set Ceiling Value\n",
    "        value_matrix[0,-x-1] =2 * value_matrix[1,-x-1] - value_matrix[2,-x-1] \n",
    "    return (value_matrix)"
   ]
  },
  {
   "cell_type": "code",
   "execution_count": 12,
   "metadata": {},
   "outputs": [],
   "source": [
    "def Finite_difference_SM_Ex (E,ds,NAS,r,q,SIGMA,T,d):\n",
    "    dt = (0.9/NAS/NAS/SIGMA/SIGMA)  #Time Step Size\n",
    "    NTS = int(T / dt) + 1  #Number of Time Steps\n",
    "    dt = T / NTS #Time Step Size\n",
    "    value_matrix = np.zeros((int(NAS+1), int(NTS)))\n",
    "    asset_price,asset_steps = asset_prices(NAS,NTS,ds,dt,d)\n",
    "    #print (asset_price[:,int (6/dt)])\n",
    "    value_matrix[:,-1]= np.maximum(asset_price[:,-1] - E,0)\n",
    "    mu=r-q\n",
    "    for x in range(1,NTS):\n",
    "        value_matrix[-1,-x-1] = 0#value_matrix[-1,-x]* math.exp(-r*dt)\n",
    "    for x in range(1,int(NTS)):\n",
    "\n",
    "        for y in range(1,int(NAS)):\n",
    "            #Evaluate Option Greeks\n",
    "            Delta = (value_matrix[y-1,-x] - value_matrix[y+1,-x]) / 2 / asset_steps[-x]\n",
    "            Gamma = (value_matrix[y-1,-x] - (2 * value_matrix[y,-x]) + value_matrix[y+1,-x]) / asset_steps[-x] / asset_steps[-x]\n",
    "            Theta = (-.5 * SIGMA**2 * asset_price[y,-x-1]**2 * Gamma) - (mu * asset_price[y,-x-1] * Delta) + (r * value_matrix[y,-x])\n",
    "            \n",
    "            #Set Mid Values\n",
    "            value_matrix[y,-x-1] = value_matrix[y,-x] - Theta * dt\n",
    "            value_matrix[y,-x-1] = np.maximum(value_matrix[y,-x-1], (asset_price[y,-x-1] - E))\n",
    "              \n",
    "\n",
    "            #Set Ceiling Value\n",
    "            value_matrix[0,-x-1] =2 * value_matrix[1,-x-1] - value_matrix[2,-x-1]#value_matrix[0,-x]* math.exp(-r*dt) # \n",
    "    return (value_matrix)"
   ]
  },
  {
   "cell_type": "code",
   "execution_count": 13,
   "metadata": {},
   "outputs": [],
   "source": [
    "def Finite_difference_SM_Im (E,ds,NAS,r,q,SIGMA,T,d):\n",
    "    dt = (0.9/NAS/NAS/SIGMA/SIGMA)  #Time Step Size\n",
    "    NTS = int(T / dt) + 1  #Number of Time Steps\n",
    "    dt = T / NTS #Time Step Size\n",
    "    value_matrix = np.zeros((int(NAS+1), int(NTS)))\n",
    "    asset_price,asset_steps = asset_prices(NAS,NTS,ds,dt,d)\n",
    "    value_matrix[:,-1]= np.maximum(asset_price[:,-1] - E,0)\n",
    "    mu=r-q\n",
    "    for x in range(1,NTS):\n",
    "        value_matrix[-1,-x-1] =0 \n",
    "        value_matrix[0,-x-1] =(asset_price[0,-x-1] - E)\n",
    "    for x in range(1,int(NTS)):\n",
    "        #initializing the risk neutral probabilities\n",
    "        P=(0.5*dt/(asset_steps[-x-1]**2))*(mu*asset_steps[-x-1]*asset_price[1:NAS,-x-1]-SIGMA**2*asset_price[1:NAS,-x-1]**2)\n",
    "        Q=1+ dt*(SIGMA**2*asset_price[1:NAS,-x-1]**2+r*asset_steps[-x-1]**2)/(asset_steps[-x-1]**2)\n",
    "        R=-0.5*dt*(SIGMA**2*asset_price[1:NAS,-x-1]**2+mu*asset_price[1:NAS,-x-1]*asset_steps[-x-1])/(asset_steps[-x-1]**2)\n",
    "        A=np.diag(Q)+np.diag(P[0:NAS-2],k=1)+np.diag(R[1:],k=-1) #the tri-diagonal matrix\n",
    "        #Set Mid Values\n",
    "        d=value_matrix[1:NAS,-x] \n",
    "        d[0]=d[0]-R[0]*value_matrix[0,-x-1]   #inserts the first value\n",
    "        d[NAS-2]=d[NAS-2]-P[NAS-2]*value_matrix[NAS,-x-1]   #inserts the last value\n",
    "        value_matrix[1:NAS,-x-1]=np.linalg.solve(A,d) #solves the simultaneous equations\n",
    "        value_matrix[:,-x-1] = np.maximum(value_matrix[:,-x-1], (asset_price[:,-x-1] - E))\n",
    "        #Set Ceiling Value\n",
    "        value_matrix[0,-x-1] =2 * value_matrix[1,-x-1] - value_matrix[2,-x-1] \n",
    "    return (value_matrix)"
   ]
  },
  {
   "cell_type": "markdown",
   "metadata": {},
   "source": [
    "# Full Hybrid Model"
   ]
  },
  {
   "cell_type": "code",
   "execution_count": 14,
   "metadata": {},
   "outputs": [],
   "source": [
    "def Finite_difference_FHM_CRN (E,ds,NAS,r,q,SIGMA,T,d,S):\n",
    "    dt =(0.9/NAS/NAS/SIGMA/SIGMA)# 0.1*(dx**2)  #Time Step Size\n",
    "    NTS = int(T / dt) + 1  #Number of Time Steps\n",
    "    dt = T / NTS #Time Step Size\n",
    "    value_matrix = np.zeros((int(NAS+1), int(NTS)))\n",
    "    mu=r-q\n",
    "    asset_price = np.arange(0,(NAS+0.5)*ds,ds)\n",
    "    #print (asset_price)\n",
    "    for x in (range(NAS+1)):\n",
    "        value_matrix[x,-1]= max (asset_price[x]*(Forward(T,S,d,mu)-shift_FHM (T,d,mu))+shift_FHM (T,d,mu)-E ,0)\n",
    "    for x in range(1,NTS):\n",
    "        value_matrix[0,-x-1] = 0#value_matrix[-1,-x]* math.exp(-r*dt)\n",
    "        value_matrix[-1,-x-1] = value_matrix[0,-x]* math.exp(-r*dt)\n",
    "        \n",
    "    i=(np.arange(1,NAS))\n",
    "    P=0.25*dt*(SIGMA**2*i**2)\n",
    "    Q=0.5*dt*(SIGMA**2*i**2)\n",
    "    R=0.25*dt*(SIGMA**2*i**2)\n",
    "    A=np.diag(1+Q)-np.diag(P[1:],k=-1)-np.diag(R[0:NAS-2],k=1) #the tri-diagonal matrix\n",
    "    B=np.diag(1-Q)+np.diag(P[1:],k=-1)+np.diag(R[0:NAS-2],k=1) #the tri-diagonal matrix\n",
    "\n",
    "    for x in range(1,int(NTS)):\n",
    "        C=np.dot(B,(value_matrix[1:NAS,-x]))\n",
    "        C[0]+=P[0]*(value_matrix[0,-x-1]+value_matrix[0,-x])\n",
    "        C[NAS-2]+=(P[NAS-2]*value_matrix[NAS,-x-1]+P[NAS-2]*value_matrix[NAS,-x])\n",
    "        G = np.dot((np.linalg.inv(A)), C )   \n",
    "        value_matrix[1:NAS,-x-1] = G.transpose()\n",
    "\n",
    "        value_matrix[:,-x-1] = np.maximum(value_matrix[:,-x-1], (asset_price[:]*(Forward((NTS-x-1)*dt,S,d,mu)-shift_FHM ((NTS-x-1)*dt,d,mu))+shift_FHM ((NTS-x-1)*dt,d,mu)-E))\n",
    "        #Set Ceiling Value\n",
    "        #value_matrix[0,-x-1] =2 * value_matrix[1,-x-1] - value_matrix[2,-x-1]#value_matrix[0,-x]* math.exp(-r*dt) # \n",
    "    return (value_matrix)"
   ]
  },
  {
   "cell_type": "code",
   "execution_count": 15,
   "metadata": {},
   "outputs": [],
   "source": [
    "def Finite_difference_FHM_Ex (E,dx,NAS,r,q,SIGMA,T,d,S):\n",
    "    dt =(0.9/NAS/NAS/SIGMA/SIGMA)# 0.1*(dx**2)  #Time Step Size\n",
    "    NTS = int(T / dt) + 1  #Number of Time Steps\n",
    "    dt = T / NTS #Time Step Size\n",
    "    value_matrix = np.zeros((int(NAS+1), int(NTS)))\n",
    "    mu=r-q\n",
    "    asset_price = np.arange(0,(NAS+0.5)*dx,dx) #X values\n",
    "    for x in (range(NAS+1)):\n",
    "        #Set boundary value for t=T\n",
    "        value_matrix[x,-1]= max (asset_price[x]*(Forward(T,S,d,mu)-shift_FHM (T,d,mu))+shift_FHM (T,d,mu)-E ,0)\n",
    "    \n",
    "    for x in range(1,NTS):\n",
    "        #Set Ceiling Value for Xmin and Xmax\n",
    "        value_matrix[0,-x-1] = 0\n",
    "        value_matrix[-1,-x-1] =value_matrix[0,-x]* math.exp(-r*dt)\n",
    "        \n",
    "    for x in range(1,int(NTS)):\n",
    "        for y in range(1,int(NAS)):\n",
    "            #Evaluate approximate derivatives\n",
    "            Gamma = (value_matrix[y-1,-x] - (2 * value_matrix[y,-x]) + value_matrix[y+1,-x]) / dx / dx\n",
    "            Theta = (0.5 * SIGMA**2 * asset_price[y]**2 * Gamma)         \n",
    "            #Set Mid Values\n",
    "            value_matrix[y,-x-1] = value_matrix[y,-x] + Theta * dt\n",
    "            value_matrix[y,-x-1] = np.maximum(value_matrix[y,-x-1], (asset_price[y]*(Forward((NTS-x-1)*dt,S,d,mu)-shift_FHM ((NTS-x-1)*dt,d,mu))+shift_FHM ((NTS-x-1)*dt,d,mu)-E)) \n",
    "             \n",
    "    return (value_matrix)"
   ]
  },
  {
   "cell_type": "code",
   "execution_count": 16,
   "metadata": {},
   "outputs": [],
   "source": [
    "def Finite_difference_FHM_Im (E,ds,NAS,r,q,SIGMA,T,d,S):\n",
    "    dt =(0.9/NAS/NAS/SIGMA/SIGMA)# 0.1*(dx**2)  #Time Step Size\n",
    "    NTS = int(T / dt) + 1  #Number of Time Steps\n",
    "    dt = T / NTS #Time Step Size\n",
    "    value_matrix = np.zeros((int(NAS+1), int(NTS)))\n",
    "    mu=r-q\n",
    "    asset_price = np.arange(0,(NAS+0.5)*ds,ds)\n",
    "    #print (asset_price)\n",
    "    for x in (range(NAS+1)):\n",
    "        value_matrix[x,-1]= max (asset_price[x]*(Forward(T,S,d,mu)-shift_FHM (T,d,mu))+shift_FHM (T,d,mu)-E ,0)\n",
    "    for x in range(1,NTS):\n",
    "        value_matrix[0,-x-1] = 0#value_matrix[-1,-x]* math.exp(-r*dt)\n",
    "        value_matrix[-1,-x-1] = value_matrix[0,-x]* math.exp(-r*dt)\n",
    "        \n",
    "    i=(np.arange(1,NAS))\n",
    "    P=-0.5*dt*(SIGMA**2*i**2)\n",
    "    Q=1+ dt*(SIGMA**2*i**2)\n",
    "    R=-0.5*dt*(SIGMA**2*i**2)\n",
    "    A=np.diag(Q)+np.diag(P[1:],k=-1)+np.diag(R[0:NAS-2],k=1) #the tri-diagonal matrix\n",
    "    for x in range(1,int(NTS)):\n",
    "\n",
    "        f=value_matrix[1:NAS,-x] \n",
    "        f[0]=f[0]-P[0]*value_matrix[0,-x-1]   #inserts the first value\n",
    "        f[NAS-2]=f[NAS-2]-R[NAS-2]*value_matrix[NAS,-x-1]   #inserts the last value\n",
    "        value_matrix[1:NAS,-x-1]=np.linalg.solve(A,f) #solves the simultaneous equations\n",
    "\n",
    "        value_matrix[:,-x-1] = np.maximum(value_matrix[:,-x-1], (asset_price[:]*(Forward((NTS-x-1)*dt,S,d,mu)-shift_FHM ((NTS-x-1)*dt,d,mu))+shift_FHM ((NTS-x-1)*dt,d,mu)-E))\n",
    "        #Set Ceiling Value\n",
    "        #value_matrix[0,-x-1] =2 * value_matrix[1,-x-1] - value_matrix[2,-x-1]#value_matrix[0,-x]* math.exp(-r*dt) # \n",
    "    return (value_matrix)"
   ]
  },
  {
   "cell_type": "markdown",
   "metadata": {},
   "source": [
    "# Executions"
   ]
  },
  {
   "cell_type": "code",
   "execution_count": 96,
   "metadata": {},
   "outputs": [],
   "source": [
    "i=1\n",
    "q=[0.03,0.05,0.06]\n",
    "E=8\n",
    "T=1\n",
    "r=0.1\n",
    "d={}\n",
    "SIGMA=0.4\n",
    "Xmax=4 #or 2 #maximun value of X\n",
    "NAS=60 #number of X steps \n",
    "dx=Xmax/NAS   #X step\n",
    "x=int (1/dx)  #position of X=1\n",
    "K=[6,8,10,11,12]\n",
    "L1=[]\n",
    "L1.append([0.5466,1.6355,3.1750,4.0442,4.9624])\n",
    "L1.append([0.4981,1.5229,2.9958,3.8343,4.7220])\n",
    "L1.append([0.4753,1.4688,2.9090,3.7322,4.6048])"
   ]
  },
  {
   "cell_type": "code",
   "execution_count": 97,
   "metadata": {},
   "outputs": [
    {
     "name": "stdout",
     "output_type": "stream",
     "text": [
      "S= 6 Option price= 0.47580637254569713\n",
      "S= 8 Option price= 1.5140116533634196\n",
      "S= 10 Option price= 3.0474903000527225\n",
      "S= 11 Option price= 3.9333021008599607\n",
      "S= 12 Option price= 4.870740653666595\n",
      "the execution time is: 3.444296200000281\n",
      "rms= 0.028262660723797194\n"
     ]
    }
   ],
   "source": [
    "L4=[]\n",
    "start = timer()\n",
    "for S in K:\n",
    "    v=Finite_difference_MM_CRN (E,dx,NAS,r,q[i],SIGMA,T,d,S)\n",
    "    y=v[x,0]  #option value\n",
    "    L4.append(y)\n",
    "    print (\"S=\",S,\"Option price=\",y)\n",
    "end = timer()\n",
    "print (\"the execution time is:\",end-start)\n",
    "rms=RMS(L1[i],L4)\n",
    "print (\"rms=\",rms)"
   ]
  },
  {
   "cell_type": "code",
   "execution_count": 98,
   "metadata": {},
   "outputs": [
    {
     "name": "stdout",
     "output_type": "stream",
     "text": [
      "S= 6 Option price= 0.4759626672234925\n",
      "S= 8 Option price= 1.5143100232651827\n",
      "S= 10 Option price= 3.047670655756885\n",
      "S= 11 Option price= 3.9333979459850354\n",
      "S= 12 Option price= 4.870766152322261\n",
      "the execution time is: 2.690452499999992\n",
      "rms= 0.028168651267413927\n"
     ]
    }
   ],
   "source": [
    "L4=[]\n",
    "start = timer()\n",
    "for S in K:\n",
    "    v=Finite_difference_MM_Ex (E,dx,NAS,r,q[i],SIGMA,T,d,S)\n",
    "    y=v[x,0]  #option value\n",
    "    L4.append(y)\n",
    "    print (\"S=\",S,\"Option price=\",y)\n",
    "end = timer()\n",
    "print (\"the execution time is:\",end-start)\n",
    "rms=RMS(L1[i],L4)\n",
    "print (\"rms=\",rms)"
   ]
  },
  {
   "cell_type": "code",
   "execution_count": 99,
   "metadata": {},
   "outputs": [
    {
     "name": "stdout",
     "output_type": "stream",
     "text": [
      "S= 6 Option price= 0.47565801369439314\n",
      "S= 8 Option price= 1.5137246306628032\n",
      "S= 10 Option price= 3.0473251073757135\n",
      "S= 11 Option price= 3.933223197269389\n",
      "S= 12 Option price= 4.870733730189075\n",
      "the execution time is: 3.203198999999586\n",
      "rms= 0.028354264856818863\n"
     ]
    }
   ],
   "source": [
    "L4=[]\n",
    "start = timer()\n",
    "for S in K:\n",
    "    v=Finite_difference_MM_Im (E,dx,NAS,r,q[i],SIGMA,T,d,S)\n",
    "    y=v[x,0]  #option value\n",
    "    L4.append(y)\n",
    "    print (\"S=\",S,\"Option price=\",y)\n",
    "end = timer()\n",
    "print (\"the execution time is:\",end-start)\n",
    "rms=RMS(L1[i],L4)\n",
    "print (\"rms=\",rms)"
   ]
  },
  {
   "cell_type": "code",
   "execution_count": 21,
   "metadata": {},
   "outputs": [],
   "source": [
    "q=0.07\n",
    "E=100\n",
    "T=3\n",
    "r=0.03\n",
    "d={}\n",
    "SIGMA=0.2\n",
    "Xmax=4 #or 2 #maximun value of X\n",
    "NAS=60 #number of X steps \n",
    "dx=Xmax/NAS   #X step\n",
    "x=int (1/dx)  #position of X=1\n",
    "K=[80,90,100,110,120]\n",
    "L1=[2.580,5.167,9.066,14.443,21.414]"
   ]
  },
  {
   "cell_type": "code",
   "execution_count": 22,
   "metadata": {},
   "outputs": [
    {
     "name": "stdout",
     "output_type": "stream",
     "text": [
      "S= 80 Option price= 2.724153642636236\n",
      "S= 90 Option price= 5.420249458597023\n",
      "S= 100 Option price= 9.408030362503888\n",
      "S= 110 Option price= 14.860561525218714\n",
      "S= 120 Option price= 21.790636707050837\n",
      "the execution time is: 2.8706558000000015\n",
      "rms= 0.04023085719982747\n"
     ]
    }
   ],
   "source": [
    "L4=[]\n",
    "start = timer()\n",
    "for S in K:\n",
    "    v=Finite_difference_MM_CRN (E,dx,NAS,r,q,SIGMA,T,d,S)\n",
    "    y=v[x,0]  #option value\n",
    "    L4.append(y)\n",
    "    print (\"S=\",S,\"Option price=\",y)\n",
    "end = timer()\n",
    "print (\"the execution time is:\",end-start)\n",
    "rms=RMS(L1,L4)\n",
    "print (\"rms=\",rms)"
   ]
  },
  {
   "cell_type": "code",
   "execution_count": 23,
   "metadata": {},
   "outputs": [
    {
     "name": "stdout",
     "output_type": "stream",
     "text": [
      "S= 80 Option price= 2.724448561289277\n",
      "S= 90 Option price= 5.4225111730782185\n",
      "S= 100 Option price= 9.412915565187143\n",
      "S= 110 Option price= 14.867766279606075\n",
      "S= 120 Option price= 21.79677251328885\n",
      "the execution time is: 2.1397604\n",
      "rms= 0.040567717171758284\n"
     ]
    }
   ],
   "source": [
    "L4=[]\n",
    "start = timer()\n",
    "for S in K:\n",
    "    v=Finite_difference_MM_Ex (E,dx,NAS,r,q,SIGMA,T,d,S)\n",
    "    y=v[x,0]  #option value\n",
    "    L4.append(y)\n",
    "    print (\"S=\",S,\"Option price=\",y)\n",
    "end = timer()\n",
    "print (\"the execution time is:\",end-start)\n",
    "rms=RMS(L1,L4)\n",
    "print (\"rms=\",rms)"
   ]
  },
  {
   "cell_type": "code",
   "execution_count": 24,
   "metadata": {},
   "outputs": [
    {
     "name": "stdout",
     "output_type": "stream",
     "text": [
      "S= 80 Option price= 2.7239018154063563\n",
      "S= 90 Option price= 5.418004935412663\n",
      "S= 100 Option price= 9.403393635011247\n",
      "S= 110 Option price= 14.853352606625114\n",
      "S= 120 Option price= 21.784312207135294\n",
      "the execution time is: 2.974659199999998\n",
      "rms= 0.039905078248973005\n"
     ]
    }
   ],
   "source": [
    "L4=[]\n",
    "start = timer()\n",
    "for S in K:\n",
    "    v=Finite_difference_MM_Im (E,dx,NAS,r,q,SIGMA,T,d,S)\n",
    "    y=v[x,0]  #option value\n",
    "    L4.append(y)\n",
    "    print (\"S=\",S,\"Option price=\",y)\n",
    "end = timer()\n",
    "print (\"the execution time is:\",end-start)\n",
    "rms=RMS(L1,L4)\n",
    "print (\"rms=\",rms)"
   ]
  },
  {
   "cell_type": "code",
   "execution_count": 33,
   "metadata": {},
   "outputs": [],
   "source": [
    "q=0\n",
    "E=100\n",
    "T=1\n",
    "r=0.04\n",
    "#d={}\n",
    "delta=[0.05,0.03,0.07]\n",
    "SIGMA=0.3\n",
    "Xmax=2 #or 2 #maximun value of X\n",
    "NAS=60 #number of X steps \n",
    "dx=Xmax/NAS   #X step\n",
    "x=int (1/dx)  #position of X=1\n",
    "S=100\n",
    "#L1=[11.489,12.163,11.013,10.900,12.632,11.164,11.840,9.581,17]"
   ]
  },
  {
   "cell_type": "code",
   "execution_count": 26,
   "metadata": {},
   "outputs": [
    {
     "name": "stdout",
     "output_type": "stream",
     "text": [
      "S= 100 Option price= 11.241317517210407\n",
      "S= 100 Option price= 12.401654853399801\n",
      "S= 100 Option price= 10.12312298238901\n",
      "the execution time is: 1.4907036000000033\n"
     ]
    }
   ],
   "source": [
    "start = timer()\n",
    "for de in delta:\n",
    "    d={}\n",
    "    d[0.5]=[0,de]\n",
    "    v=Finite_difference_MM_CRN (E,dx,NAS,r,q,SIGMA,T,d,S)\n",
    "    y=v[x,0]  #option value\n",
    "    #L4.append(y)\n",
    "    print (\"S=\",S,\"Option price=\",y)\n",
    "end = timer()\n",
    "print (\"the execution time is:\",end-start)"
   ]
  },
  {
   "cell_type": "code",
   "execution_count": 27,
   "metadata": {},
   "outputs": [
    {
     "name": "stdout",
     "output_type": "stream",
     "text": [
      "S= 100 Option price= 11.225197012287644\n",
      "S= 100 Option price= 12.385174219170471\n",
      "S= 100 Option price= 10.107407135194602\n",
      "the execution time is: 0.9503586999999989\n"
     ]
    }
   ],
   "source": [
    "start = timer()\n",
    "for de in delta:\n",
    "    d={}\n",
    "    d[0.5]=[0,de]\n",
    "    v=Finite_difference_MM_Im (E,dx,NAS,r,q,SIGMA,T,d,S)\n",
    "    y=v[x,0]  #option value\n",
    "    #L4.append(y)\n",
    "    print (\"S=\",S,\"Option price=\",y)\n",
    "end = timer()\n",
    "print (\"the execution time is:\",end-start)"
   ]
  },
  {
   "cell_type": "code",
   "execution_count": 28,
   "metadata": {},
   "outputs": [
    {
     "name": "stdout",
     "output_type": "stream",
     "text": [
      "S= 100 Option price= 11.260773669387682\n",
      "S= 100 Option price= 12.421554438669414\n",
      "S= 100 Option price= 10.142093222547311\n",
      "the execution time is: 1.0551162000000005\n"
     ]
    }
   ],
   "source": [
    "start = timer()\n",
    "for de in delta:\n",
    "    d={}\n",
    "    d[0.5]=[0,de]\n",
    "    v=Finite_difference_MM_Ex (E,dx,NAS,r,q,SIGMA,T,d,S)\n",
    "    y=v[x,0]  #option value\n",
    "    #L4.append(y)\n",
    "    print (\"S=\",S,\"Option price=\",y)\n",
    "end = timer()\n",
    "print (\"the execution time is:\",end-start)"
   ]
  },
  {
   "cell_type": "code",
   "execution_count": 34,
   "metadata": {},
   "outputs": [
    {
     "name": "stdout",
     "output_type": "stream",
     "text": [
      "S= 100 Option price= 11.260773669387682\n",
      "S= 100 Option price= 12.421554438669414\n",
      "S= 100 Option price= 10.142093222547311\n",
      "the execution time is: 1.4113767999999993\n"
     ]
    }
   ],
   "source": [
    "start = timer()\n",
    "for de in delta:\n",
    "    d={}\n",
    "    d[0.5]=[0,de]\n",
    "    v=Finite_difference_FHM_Ex (E,dx,NAS,r,q,SIGMA,T,d,S)\n",
    "    y=v[x,0]  #option value\n",
    "    #L4.append(y)\n",
    "    print (\"S=\",S,\"Option price=\",y)\n",
    "end = timer()\n",
    "print (\"the execution time is:\",end-start)"
   ]
  },
  {
   "cell_type": "code",
   "execution_count": 35,
   "metadata": {},
   "outputs": [
    {
     "name": "stdout",
     "output_type": "stream",
     "text": [
      "S= 100 Option price= 11.225197012287644\n",
      "S= 100 Option price= 12.385174219170471\n",
      "S= 100 Option price= 10.107407135194602\n",
      "the execution time is: 1.0227761999999956\n"
     ]
    }
   ],
   "source": [
    "start = timer()\n",
    "for de in delta:\n",
    "    d={}\n",
    "    d[0.5]=[0,de]\n",
    "    v=Finite_difference_FHM_Im (E,dx,NAS,r,q,SIGMA,T,d,S)\n",
    "    y=v[x,0]  #option value\n",
    "    #L4.append(y)\n",
    "    print (\"S=\",S,\"Option price=\",y)\n",
    "end = timer()\n",
    "print (\"the execution time is:\",end-start)"
   ]
  },
  {
   "cell_type": "code",
   "execution_count": 36,
   "metadata": {},
   "outputs": [
    {
     "name": "stdout",
     "output_type": "stream",
     "text": [
      "S= 100 Option price= 11.241317517210407\n",
      "S= 100 Option price= 12.401654853399801\n",
      "S= 100 Option price= 10.12312298238901\n",
      "the execution time is: 1.1343112000000133\n"
     ]
    }
   ],
   "source": [
    "start = timer()\n",
    "for de in delta:\n",
    "    d={}\n",
    "    d[0.5]=[0,de]\n",
    "    v=Finite_difference_FHM_CRN (E,dx,NAS,r,q,SIGMA,T,d,S)\n",
    "    y=v[x,0]  #option value\n",
    "    #L4.append(y)\n",
    "    print (\"S=\",S,\"Option price=\",y)\n",
    "end = timer()\n",
    "print (\"the execution time is:\",end-start)"
   ]
  },
  {
   "cell_type": "code",
   "execution_count": 29,
   "metadata": {},
   "outputs": [],
   "source": [
    "q=0\n",
    "E=100\n",
    "T=1\n",
    "r=0.04\n",
    "#d={}\n",
    "delta=[0.05,0.03,0.07]\n",
    "SIGMA=0.3\n",
    "NAS=60 #number of X steps \n",
    "s=100"
   ]
  },
  {
   "cell_type": "code",
   "execution_count": 30,
   "metadata": {},
   "outputs": [
    {
     "name": "stdout",
     "output_type": "stream",
     "text": [
      "S= 100 f(S,t=0)= 11.490602808511467\n",
      "S= 100 f(S,t=0)= 12.138815231878437\n",
      "S= 100 f(S,t=0)= 10.993725188277427\n",
      "the execution time is: 1.3455177999999997\n"
     ]
    }
   ],
   "source": [
    "start = timer()\n",
    "for de in delta:\n",
    "    d={}\n",
    "    d[0.5]=[0,de]\n",
    "    ds = 2 * E / NAS\n",
    "    S=s\n",
    "    d1=sorted(d)\n",
    "    for n in range (len(d)):\n",
    "        S=S*(1-d[d1[n]][1])-d[d1[n]][0]\n",
    "    V=Finite_difference_SM_Ex (E,ds,NAS,r,q,SIGMA,T,d)\n",
    "    if ((S)%ds==0):\n",
    "            p=int ((S)//ds)\n",
    "            print (\"S=\",s, \"f(S,t=0)=\",V[NAS-p,0])\n",
    "    else :\n",
    "            x1=int ((S)//ds)\n",
    "            x2=int (((S)//ds)+1)\n",
    "            y=interpolation (x1*ds,x2*ds,V[NAS-x1,0],V[NAS-x2,0],(S))\n",
    "            print (\"S=\",s, \"f(S,t=0)=\",y)\n",
    "end = timer()\n",
    "print (\"the execution time is:\",end-start)"
   ]
  },
  {
   "cell_type": "code",
   "execution_count": 31,
   "metadata": {},
   "outputs": [
    {
     "name": "stdout",
     "output_type": "stream",
     "text": [
      "S= 100 f(S,t=0)= 11.47916085213223\n",
      "S= 100 f(S,t=0)= 12.127848278509905\n",
      "S= 100 f(S,t=0)= 10.981908633705363\n",
      "the execution time is: 1.3881428000000007\n"
     ]
    }
   ],
   "source": [
    "start = timer()\n",
    "for de in delta:\n",
    "    d={}\n",
    "    d[0.5]=[0,de]\n",
    "    ds = 2 * E / NAS\n",
    "    S=s\n",
    "    d1=sorted(d)\n",
    "    for n in range (len(d)):\n",
    "        S=S*(1-d[d1[n]][1])-d[d1[n]][0]\n",
    "    V=Finite_difference_SM_Im (E,ds,NAS,r,q,SIGMA,T,d)\n",
    "    if ((S)%ds==0):\n",
    "            p=int ((S)//ds)\n",
    "            print (\"S=\",s, \"f(S,t=0)=\",V[NAS-p,0])\n",
    "    else :\n",
    "            x1=int ((S)//ds)\n",
    "            x2=int (((S)//ds)+1)\n",
    "            y=interpolation (x1*ds,x2*ds,V[NAS-x1,0],V[NAS-x2,0],(S))\n",
    "            print (\"S=\",s, \"f(S,t=0)=\",y)\n",
    "end = timer()\n",
    "print (\"the execution time is:\",end-start)"
   ]
  },
  {
   "cell_type": "code",
   "execution_count": 32,
   "metadata": {},
   "outputs": [
    {
     "name": "stdout",
     "output_type": "stream",
     "text": [
      "S= 100 f(S,t=0)= 11.483997280819084\n",
      "S= 100 f(S,t=0)= 12.132484022597435\n",
      "S= 100 f(S,t=0)= 10.986820787609345\n",
      "the execution time is: 1.3213712999999991\n"
     ]
    }
   ],
   "source": [
    "start = timer()\n",
    "for de in delta:\n",
    "    d={}\n",
    "    d[0.5]=[0,de]\n",
    "    ds = 2 * E / NAS\n",
    "    S=s\n",
    "    d1=sorted(d)\n",
    "    for n in range (len(d)):\n",
    "        S=S*(1-d[d1[n]][1])-d[d1[n]][0]\n",
    "    V=Finite_difference_SM_CRN (E,ds,NAS,r,q,SIGMA,T,d)\n",
    "    if ((S)%ds==0):\n",
    "            p=int ((S)//ds)\n",
    "            print (\"S=\",s, \"f(S,t=0)=\",V[NAS-p,0])\n",
    "    else :\n",
    "            x1=int ((S)//ds)\n",
    "            x2=int (((S)//ds)+1)\n",
    "            y=interpolation (x1*ds,x2*ds,V[NAS-x1,0],V[NAS-x2,0],(S))\n",
    "            print (\"S=\",s, \"f(S,t=0)=\",y)\n",
    "end = timer()\n",
    "print (\"the execution time is:\",end-start)"
   ]
  },
  {
   "cell_type": "code",
   "execution_count": 70,
   "metadata": {},
   "outputs": [],
   "source": [
    "q=0\n",
    "T=1\n",
    "r=0.05\n",
    "d={}\n",
    "d[0.1]=[7,0]\n",
    "SIGMA=0.3\n",
    "NAS=20 #number of X steps \n",
    "s=100\n",
    "K=[70,100,130]"
   ]
  },
  {
   "cell_type": "code",
   "execution_count": 71,
   "metadata": {},
   "outputs": [
    {
     "name": "stdout",
     "output_type": "stream",
     "text": [
      "S= 100 f(S,t=0)= 30.36691411113123\n",
      "S= 100 f(S,t=0)= 10.15452266471508\n",
      "S= 100 f(S,t=0)= 2.9208204544178633\n",
      "the execution time is: 0.058380899999974645\n"
     ]
    }
   ],
   "source": [
    "start = timer()\n",
    "for E in K:\n",
    "    ds = 2 * E / NAS\n",
    "    S=s\n",
    "    d1=sorted(d)\n",
    "    for n in range (len(d)):\n",
    "        S=S*(1-d[d1[n]][1])-d[d1[n]][0]\n",
    "    V=Finite_difference_SM_Ex (E,ds,NAS,r,q,SIGMA,T,d)\n",
    "    if ((S)%ds==0):\n",
    "            p=int ((S)//ds)\n",
    "            print (\"S=\",s, \"f(S,t=0)=\",V[NAS-p,0])\n",
    "    else :\n",
    "            x1=int ((S)//ds)\n",
    "            x2=int (((S)//ds)+1)\n",
    "            y=interpolation (x1*ds,x2*ds,V[NAS-x1,0],V[NAS-x2,0],(S))\n",
    "            print (\"S=\",s, \"f(S,t=0)=\",y)\n",
    "end = timer()\n",
    "print (\"the execution time is:\",end-start)"
   ]
  },
  {
   "cell_type": "code",
   "execution_count": 74,
   "metadata": {},
   "outputs": [
    {
     "name": "stdout",
     "output_type": "stream",
     "text": [
      "S= 100 f(S,t=0)= 30.378694021516512\n",
      "S= 100 f(S,t=0)= 10.099913763882741\n",
      "S= 100 f(S,t=0)= 2.9257878916716185\n",
      "the execution time is: 0.09751740000001519\n"
     ]
    }
   ],
   "source": [
    "start = timer()\n",
    "for E in K:\n",
    "    ds = 2 * E / NAS\n",
    "    S=s\n",
    "    d1=sorted(d)\n",
    "    for n in range (len(d)):\n",
    "        S=S*(1-d[d1[n]][1])-d[d1[n]][0]\n",
    "    V=Finite_difference_SM_CRN (E,ds,NAS,r,q,SIGMA,T,d)\n",
    "    if ((S)%ds==0):\n",
    "            p=int ((S)//ds)\n",
    "            print (\"S=\",s, \"f(S,t=0)=\",V[NAS-p,0])\n",
    "    else :\n",
    "            x1=int ((S)//ds)\n",
    "            x2=int (((S)//ds)+1)\n",
    "            y=interpolation (x1*ds,x2*ds,V[NAS-x1,0],V[NAS-x2,0],(S))\n",
    "            print (\"S=\",s, \"f(S,t=0)=\",y)\n",
    "end = timer()\n",
    "print (\"the execution time is:\",end-start)"
   ]
  },
  {
   "cell_type": "code",
   "execution_count": 73,
   "metadata": {},
   "outputs": [
    {
     "name": "stdout",
     "output_type": "stream",
     "text": [
      "S= 100 f(S,t=0)= 30.388235365844487\n",
      "S= 100 f(S,t=0)= 10.076700411838148\n",
      "S= 100 f(S,t=0)= 2.947456546893368\n",
      "the execution time is: 0.05961109999998371\n"
     ]
    }
   ],
   "source": [
    "start = timer()\n",
    "for E in K:\n",
    "    ds = 2 * E / NAS\n",
    "    S=s\n",
    "    d1=sorted(d)\n",
    "    for n in range (len(d)):\n",
    "        S=S*(1-d[d1[n]][1])-d[d1[n]][0]\n",
    "    V=Finite_difference_SM_Im (E,ds,NAS,r,q,SIGMA,T,d)\n",
    "    if ((S)%ds==0):\n",
    "            p=int ((S)//ds)\n",
    "            print (\"S=\",s, \"f(S,t=0)=\",V[NAS-p,0])\n",
    "    else :\n",
    "            x1=int ((S)//ds)\n",
    "            x2=int (((S)//ds)+1)\n",
    "            y=interpolation (x1*ds,x2*ds,V[NAS-x1,0],V[NAS-x2,0],(S))\n",
    "            print (\"S=\",s, \"f(S,t=0)=\",y)\n",
    "end = timer()\n",
    "print (\"the execution time is:\",end-start)"
   ]
  },
  {
   "cell_type": "code",
   "execution_count": 81,
   "metadata": {},
   "outputs": [],
   "source": [
    "q=0\n",
    "T=1\n",
    "r=0.05\n",
    "d={}\n",
    "d[0.1]=[7,0]\n",
    "SIGMA=0.3\n",
    "Xmax=4 #or 2 #maximun value of X\n",
    "NAS=20 #number of X steps \n",
    "dx=Xmax/NAS   #X step\n",
    "x=int (1/dx)  #position of X=1\n",
    "S=100\n",
    "K=[70,100,130]"
   ]
  },
  {
   "cell_type": "code",
   "execution_count": 82,
   "metadata": {},
   "outputs": [
    {
     "name": "stdout",
     "output_type": "stream",
     "text": [
      "E= 70 Option price= 30.797830733959636\n",
      "E= 100 Option price= 10.182206961056378\n",
      "E= 130 Option price= 2.9943182662751973\n",
      "the execution time is: 0.050940600000103586\n"
     ]
    }
   ],
   "source": [
    "start = timer()\n",
    "for E in K:\n",
    "    v=Finite_difference_MM_Ex (E,dx,NAS,r,q,SIGMA,T,d,S)\n",
    "    y=v[x,0]  #option value\n",
    "    print (\"E=\",E,\"Option price=\",y)\n",
    "end = timer()\n",
    "print (\"the execution time is:\",end-start)"
   ]
  },
  {
   "cell_type": "code",
   "execution_count": 83,
   "metadata": {},
   "outputs": [
    {
     "name": "stdout",
     "output_type": "stream",
     "text": [
      "E= 70 Option price= 30.794401437658383\n",
      "E= 100 Option price= 10.140155771117296\n",
      "E= 130 Option price= 2.994920665411999\n",
      "the execution time is: 0.06028789999982109\n"
     ]
    }
   ],
   "source": [
    "start = timer()\n",
    "for E in K:\n",
    "    v=Finite_difference_MM_CRN (E,dx,NAS,r,q,SIGMA,T,d,S)\n",
    "    y=v[x,0]  #option value\n",
    "    print (\"E=\",E,\"Option price=\",y)\n",
    "end = timer()\n",
    "print (\"the execution time is:\",end-start)"
   ]
  },
  {
   "cell_type": "code",
   "execution_count": 84,
   "metadata": {},
   "outputs": [
    {
     "name": "stdout",
     "output_type": "stream",
     "text": [
      "E= 70 Option price= 30.791207159817315\n",
      "E= 100 Option price= 10.097341724399097\n",
      "E= 130 Option price= 2.995884562934894\n",
      "the execution time is: 0.04206629999953293\n"
     ]
    }
   ],
   "source": [
    "start = timer()\n",
    "for E in K:\n",
    "    v=Finite_difference_MM_Im (E,dx,NAS,r,q,SIGMA,T,d,S)\n",
    "    y=v[x,0]  #option value\n",
    "    print (\"E=\",E,\"Option price=\",y)\n",
    "end = timer()\n",
    "print (\"the execution time is:\",end-start)"
   ]
  },
  {
   "cell_type": "code",
   "execution_count": 85,
   "metadata": {},
   "outputs": [
    {
     "name": "stdout",
     "output_type": "stream",
     "text": [
      "E= 70 Option price= 30.656154846359343\n",
      "E= 100 Option price= 10.172760053441017\n",
      "E= 130 Option price= 2.994311366904678\n",
      "the execution time is: 0.07777660000010655\n"
     ]
    }
   ],
   "source": [
    "start = timer()\n",
    "for E in K:\n",
    "    v=Finite_difference_FHM_Ex (E,dx,NAS,r,q,SIGMA,T,d,S)\n",
    "    y=v[x,0]  #option value\n",
    "    print (\"E=\",E,\"Option price=\",y)\n",
    "end = timer()\n",
    "print (\"the execution time is:\",end-start)"
   ]
  },
  {
   "cell_type": "code",
   "execution_count": 86,
   "metadata": {},
   "outputs": [
    {
     "name": "stdout",
     "output_type": "stream",
     "text": [
      "E= 70 Option price= 30.65568906838027\n",
      "E= 100 Option price= 10.083870761024537\n",
      "E= 130 Option price= 2.995733602673464\n",
      "the execution time is: 0.04440009999962058\n"
     ]
    }
   ],
   "source": [
    "start = timer()\n",
    "for E in K:\n",
    "    v=Finite_difference_FHM_Im (E,dx,NAS,r,q,SIGMA,T,d,S)\n",
    "    y=v[x,0]  #option value\n",
    "    print (\"E=\",E,\"Option price=\",y)\n",
    "end = timer()\n",
    "print (\"the execution time is:\",end-start)"
   ]
  },
  {
   "cell_type": "code",
   "execution_count": 87,
   "metadata": {},
   "outputs": [
    {
     "name": "stdout",
     "output_type": "stream",
     "text": [
      "E= 70 Option price= 30.655900007145007\n",
      "E= 100 Option price= 10.128595243533319\n",
      "E= 130 Option price= 2.994859084984871\n",
      "the execution time is: 0.06064380000043457\n"
     ]
    }
   ],
   "source": [
    "start = timer()\n",
    "for E in K:\n",
    "    v=Finite_difference_FHM_CRN (E,dx,NAS,r,q,SIGMA,T,d,S)\n",
    "    y=v[x,0]  #option value\n",
    "    print (\"E=\",E,\"Option price=\",y)\n",
    "end = timer()\n",
    "print (\"the execution time is:\",end-start)"
   ]
  },
  {
   "cell_type": "code",
   "execution_count": 108,
   "metadata": {},
   "outputs": [],
   "source": [
    "q=0.07\n",
    "T=3\n",
    "r=0.03\n",
    "d={}\n",
    "#d[0.1]=[7,0]\n",
    "SIGMA=0.2\n",
    "Xmax=2 #or 2 #maximun value of X\n",
    "NAS=20 #number of X steps \n",
    "dx=Xmax/NAS   #X step\n",
    "x=int (1/dx)  #position of X=1\n",
    "E=100\n",
    "K=[80,90,100,110,120]"
   ]
  },
  {
   "cell_type": "code",
   "execution_count": 109,
   "metadata": {},
   "outputs": [
    {
     "name": "stdout",
     "output_type": "stream",
     "text": [
      "S= 80 Option price= 2.663357860520341\n",
      "S= 90 Option price= 5.363976152018201\n",
      "S= 100 Option price= 9.342359356028853\n",
      "S= 110 Option price= 14.741758601223879\n",
      "S= 120 Option price= 21.676805101917267\n",
      "the execution time is: 0.11103079999975307\n"
     ]
    }
   ],
   "source": [
    "start = timer()\n",
    "for S in K:\n",
    "    v=Finite_difference_MM_Ex (E,dx,NAS,r,q,SIGMA,T,d,S)\n",
    "    y=v[x,0]  #option value\n",
    "    print (\"S=\",S,\"Option price=\",y)\n",
    "end = timer()\n",
    "print (\"the execution time is:\",end-start)"
   ]
  },
  {
   "cell_type": "code",
   "execution_count": null,
   "metadata": {},
   "outputs": [],
   "source": []
  }
 ],
 "metadata": {
  "kernelspec": {
   "display_name": "Python 3",
   "language": "python",
   "name": "python3"
  },
  "language_info": {
   "codemirror_mode": {
    "name": "ipython",
    "version": 3
   },
   "file_extension": ".py",
   "mimetype": "text/x-python",
   "name": "python",
   "nbconvert_exporter": "python",
   "pygments_lexer": "ipython3",
   "version": "3.8.3"
  }
 },
 "nbformat": 4,
 "nbformat_minor": 4
}
